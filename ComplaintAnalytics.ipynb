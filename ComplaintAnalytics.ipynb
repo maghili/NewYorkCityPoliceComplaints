{
 "cells": [
  {
   "cell_type": "markdown",
   "metadata": {},
   "source": [
    "This is an analysis of the data provided by <a href="https://www1.nyc.gov/assets/ccrb/downloads/excel/ccrb_datatransparencyinitiative_20170207.xlsx">the official website of the city of New York</a>:
   ]
  },
  {
   "cell_type": "code",
   "execution_count": 1,
   "metadata": {},
   "outputs": [],
   "source": [
    "import numpy as np\n",
    "import pandas as pd\n",
    "from sklearn.linear_model import LinearRegression\n",
    "import matplotlib.pyplot as plt"
   ]
  },
  {
   "cell_type": "code",
   "execution_count": 2,
   "metadata": {},
   "outputs": [],
   "source": [
    "df = pd.read_excel('ccrb_datatransparencyinitiative_20170207.xlsx', sheet_name='Complaints_Allegations')\n",
    "df['Duration'] = df['Close Year'] - df['Received Year']"
   ]
  },
  {
   "cell_type": "markdown",
   "metadata": {},
   "source": [
    "Here are some analytics of the data"
   ]
  },
  {
   "cell_type": "code",
   "execution_count": 3,
   "metadata": {},
   "outputs": [
    {
     "name": "stdout",
     "output_type": "stream",
     "text": [
      "Number of unique complaints:  68467\n"
     ]
    }
   ],
   "source": [
    "NoMissing = df.dropna()\n",
    "UniqueComplaints = NoMissing.drop_duplicates(subset = 'UniqueComplaintId', keep = 'first')\n",
    "print 'Number of unique complaints: ', len(UniqueComplaints)"
   ]
  },
  {
   "cell_type": "code",
   "execution_count": 4,
   "metadata": {},
   "outputs": [
    {
     "name": "stdout",
     "output_type": "stream",
     "text": [
      "Ratio at the borough with largest complaints:  0.353673600474\n"
     ]
    }
   ],
   "source": [
    "ListOfBoroughs = NoMissing['Borough of Occurrence'].value_counts()\n",
    "Ratio = ListOfBoroughs.max()*1.0/ListOfBoroughs.sum()\n",
    "print 'Ratio at the borough with largest complaints: ', Ratio"
   ]
  },
  {
   "cell_type": "code",
   "execution_count": 6,
   "metadata": {},
   "outputs": [
    {
     "name": "stdout",
     "output_type": "stream",
     "text": [
      "Highest Number of Complaints per 100k residents at a Brough:  182.864836644\n"
     ]
    }
   ],
   "source": [
    "Demographics = {'Manhattan':1643734,'Brooklyn': 2629150,'Queens': 2333054,'Bronx': 1455720, 'Staten Island':476015}\n",
    "OutsideNYC = NoMissing['Borough of Occurrence'] == 'Outside NYC'\n",
    "InState = NoMissing[~OutsideNYC & (NoMissing['Received Year'] == 2016)]; ComplaintInState = InState['Borough of Occurrence'].value_counts()\n",
    "print 'Highest Number of Complaints per 100k residents at a Brough: ',max([ComplaintInState.values[i]*1.0/Demographics[str(ComplaintInState.keys()[i])]*1e5 for i in range(len(ComplaintInState.keys()))])"
   ]
  },
  {
   "cell_type": "code",
   "execution_count": 7,
   "metadata": {},
   "outputs": [
    {
     "name": "stdout",
     "output_type": "stream",
     "text": [
      "Average No. of years for closure of a case:  0.47437451619\n"
     ]
    }
   ],
   "source": [
    "AverageDuration = UniqueComplaints.Duration.mean()\n",
    "print 'Average No. of years for closure of a case: ', AverageDuration"
   ]
  },
  {
   "cell_type": "code",
   "execution_count": 9,
   "metadata": {},
   "outputs": [
    {
     "name": "stdout",
     "output_type": "stream",
     "text": [
      "The prediction of No. of stop and frisk complaints for year 2018 is:  227\n"
     ]
    }
   ],
   "source": [
    "Before2017 = df['Received Year'] <= 2016\n",
    "StopAndFrisk = df['Complaint Contains Stop & Frisk Allegations'] == True\n",
    "StopAndFriskBefore2017 = df[ Before2017 & StopAndFrisk].drop_duplicates(subset = 'UniqueComplaintId', keep = 'first')['Incident Year'].value_counts().sort_index()\n",
    "StartingYear = StopAndFriskBefore2017[ StopAndFriskBefore2017 == StopAndFriskBefore2017.max()].index[0]\n",
    "StopAndFriskBefore2017 = StopAndFriskBefore2017[StopAndFriskBefore2017.keys()>=StartingYear]\n",
    "\n",
    "clf = LinearRegression()\n",
    "clf.fit(np.array(StopAndFriskBefore2017.keys().tolist()).reshape(-1, 1), StopAndFriskBefore2017.values)\n",
    "print 'The prediction of No. of stop and frisk complaints for year 2018 is: ', int(round(clf.predict(2018)))"
   ]
  },
  {
   "cell_type": "code",
   "execution_count": 10,
   "metadata": {},
   "outputs": [
    {
     "data": {
      "image/png": "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\n",
      "text/plain": [
       "<matplotlib.figure.Figure at 0x10b2de1d0>"
      ]
     },
     "metadata": {},
     "output_type": "display_data"
    }
   ],
   "source": [
    "#Some plottings\n",
    "plt.scatter(StopAndFriskBefore2017.keys().tolist(), StopAndFriskBefore2017.values)\n",
    "plt.plot(StopAndFriskBefore2017.keys().tolist(), clf.predict(np.array(StopAndFriskBefore2017.keys().tolist()).reshape(-1, 1)), 'r')\n",
    "plt.show()"
   ]
  },
  {
   "cell_type": "markdown",
   "metadata": {},
   "source": [
    "Null assumption that Full Investigation is equaly likely for the cases with and without video evidence"
   ]
  },
  {
   "cell_type": "code",
   "execution_count": 11,
   "metadata": {},
   "outputs": [
    {
     "name": "stdout",
     "output_type": "stream",
     "text": [
      "the value of chi2 is:  17861.5986983\n"
     ]
    }
   ],
   "source": [
    "FI = UniqueComplaints['Is Full Investigation'] == True\n",
    "VE = UniqueComplaints['Complaint Has Video Evidence'] == True\n",
    "VEFI = len(UniqueComplaints[FI & VE]); NVEFI = len(UniqueComplaints[~FI & ~VE])\n",
    "NFI = len(UniqueComplaints[~FI & VE]); NVE = len(UniqueComplaints[FI & ~VE])\n",
    "chi2 = ( (VEFI - len(UniqueComplaints[FI])/2.0)**2/(len(UniqueComplaints[FI])/2.0)\n",
    "        + (NVE - len(UniqueComplaints[FI])/2.0)**2/(len(UniqueComplaints[FI])/2.0) )\n",
    "print 'the value of chi2 is: ', chi2"
   ]
  },
  {
   "cell_type": "code",
   "execution_count": 12,
   "metadata": {},
   "outputs": [
    {
     "name": "stdout",
     "output_type": "stream",
     "text": [
      "Coefficient:  [-0.15440585]\n"
     ]
    }
   ],
   "source": [
    "AllegationSet = NoMissing['Allegation FADO Type'].value_counts()\n",
    "IndicatorVariable=[[str(AllegationSet.keys().tolist()[i]), i] for i in range(len(AllegationSet))]\n",
    "X = np.array([i for i in range(len(AllegationSet))]).reshape(-1, 1)\n",
    "y = np.array(AllegationSet.values)*1.0/len(NoMissing)\n",
    "clf2 = LinearRegression()\n",
    "clf2.fit(X, y)\n",
    "print 'Coefficient: ', clf2.coef_\n"
   ]
  },
  {
   "cell_type": "code",
   "execution_count": 14,
   "metadata": {},
   "outputs": [
    {
     "name": "stdout",
     "output_type": "stream",
     "text": [
      "Brooklyn         1143\n",
      "Manhattan         903\n",
      "Bronx             819\n",
      "Queens            622\n",
      "Staten Island     164\n",
      "Name: Borough of Occurrence, dtype: int64\n",
      "Ratio of max to min of Complaints per Precinct:  1.78947368421\n"
     ]
    }
   ],
   "source": [
    "GeneralUniqueComplaints = df.drop_duplicates(subset = 'UniqueComplaintId', keep = 'first')\n",
    "GeneralOutsideNYC = GeneralUniqueComplaints['Borough of Occurrence'] == 'Outside NYC'\n",
    "GeneralUniqueComplaints = GeneralUniqueComplaints[(~GeneralOutsideNYC) & (GeneralUniqueComplaints['Received Year'] == 2016)]\n",
    "ComplaintsPerBorough = GeneralUniqueComplaints['Borough of Occurrence'].value_counts()\n",
    "print ComplaintsPerBorough\n",
    "PrecinctInfo = {'Brooklyn':23, 'Staten Island':4, 'Manhattan':22, 'Bronx':12, 'Queens':16}\n",
    "ComplaintsPerPrecinct = [ComplaintsPerBorough.values[i]/PrecinctInfo[str(ComplaintsPerBorough.keys()[i])] for i in range(len(ComplaintsPerBorough.keys()))]\n",
    "print 'Ratio of max to min of Complaints per Precinct: ', max(ComplaintsPerPrecinct)*1.0/min(ComplaintsPerPrecinct)"
   ]
  },
  {
   "cell_type": "code",
   "execution_count": null,
   "metadata": {},
   "outputs": [],
   "source": []
  }
 ],
 "metadata": {
  "kernelspec": {
   "display_name": "Python 2",
   "language": "python",
   "name": "python2"
  },
  "language_info": {
   "codemirror_mode": {
    "name": "ipython",
    "version": 2
   },
   "file_extension": ".py",
   "mimetype": "text/x-python",
   "name": "python",
   "nbconvert_exporter": "python",
   "pygments_lexer": "ipython2",
   "version": "2.7.14"
  }
 },
 "nbformat": 4,
 "nbformat_minor": 2
}
